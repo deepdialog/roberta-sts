{
 "cells": [
  {
   "cell_type": "code",
   "execution_count": 1,
   "id": "c4400c2e-c69b-4fad-89e5-06c3b22ffaf8",
   "metadata": {},
   "outputs": [],
   "source": [
    "import os\n",
    "import numpy as np\n",
    "from scipy.special import softmax\n",
    "from onnxruntime import GraphOptimizationLevel, InferenceSession, SessionOptions, get_all_providers\n",
    "from transformers import BertTokenizer\n",
    "\n",
    "\n",
    "def create_model_for_provider(model_path: str, provider: str= 'CPUExecutionProvider') -> InferenceSession:\n",
    "    assert provider in get_all_providers(), f\"provider {provider} not found, {get_all_providers()}\"\n",
    "    # Few properties that might have an impact on performances (provided by MS)\n",
    "    options = SessionOptions()\n",
    "    options.intra_op_num_threads = int(os.environ.get('NUM_THREADS', 4))\n",
    "    options.graph_optimization_level = GraphOptimizationLevel.ORT_ENABLE_ALL\n",
    "    # Load the model as a graph and prepare the CPU backend\n",
    "    session = InferenceSession(model_path, options, providers=[provider])\n",
    "    session.disable_fallback()\n",
    "    return session"
   ]
  },
  {
   "cell_type": "code",
   "execution_count": 41,
   "id": "7b000c12-3f52-49e1-a601-4035af69fd6d",
   "metadata": {},
   "outputs": [],
   "source": [
    "# tokenizer = BertTokenizer.from_pretrained('IDEA-CCNL/Erlangshen-Roberta-330M-Similarity')\n",
    "# tokenizer.save_pretrained('roberta_sts_tokenizer')\n",
    "tokenizer = BertTokenizer.from_pretrained('roberta_sts_tokenizer')\n",
    "model = create_model_for_provider('./roberta_sts_300m.quant.onnx')"
   ]
  },
  {
   "cell_type": "code",
   "execution_count": 30,
   "id": "bdaa42d1-d7d9-4466-b9d3-2d26be6a9595",
   "metadata": {},
   "outputs": [],
   "source": [
    "def sim(texta, textb):\n",
    "    inputs = np.array([tokenizer.encode(texta, textb)], dtype=np.int64)\n",
    "    logits = model.run(None, {\n",
    "        \"input\": inputs\n",
    "    })[0]\n",
    "    probs = softmax(logits)\n",
    "    label = '相似' if probs.argmax(-1)[0] == 1 else '不同'\n",
    "    return {\n",
    "        'logits': logits.astype(float).tolist()[0],\n",
    "        'softmax': probs.astype(float).tolist()[0],\n",
    "        'prob': probs.astype(float).tolist()[0][1],\n",
    "        'label': label\n",
    "    }"
   ]
  },
  {
   "cell_type": "code",
   "execution_count": 33,
   "id": "82ecb1a0-ff3f-4409-b9b8-119f9032cc54",
   "metadata": {},
   "outputs": [
    {
     "data": {
      "text/plain": [
       "{'logits': [-0.8455033302307129, 0.8869611024856567],\n",
       " 'softmax': [0.15027260780334473, 0.8497273921966553],\n",
       " 'prob': 0.8497273921966553,\n",
       " 'label': '相似'}"
      ]
     },
     "execution_count": 33,
     "metadata": {},
     "output_type": "execute_result"
    }
   ],
   "source": [
    "sim('我要去吃饭', '去吃饭')"
   ]
  },
  {
   "cell_type": "code",
   "execution_count": 37,
   "id": "fb614d41-2cb3-4534-8e39-b995cd6dd64b",
   "metadata": {},
   "outputs": [
    {
     "name": "stdout",
     "output_type": "stream",
     "text": [
      "22.8 ms ± 1.32 ms per loop (mean ± std. dev. of 7 runs, 100 loops each)\n"
     ]
    }
   ],
   "source": [
    "%%timeit\n",
    "sim('我要去吃饭', '不吃饭')"
   ]
  },
  {
   "cell_type": "code",
   "execution_count": null,
   "id": "675d4168-0b41-4167-8d53-f5c55ed27642",
   "metadata": {},
   "outputs": [],
   "source": []
  },
  {
   "cell_type": "code",
   "execution_count": null,
   "id": "26e00984-dcab-4845-9f3f-6c1736fdedc5",
   "metadata": {},
   "outputs": [],
   "source": []
  }
 ],
 "metadata": {
  "kernelspec": {
   "display_name": "Python 3 (ipykernel)",
   "language": "python",
   "name": "python3"
  },
  "language_info": {
   "codemirror_mode": {
    "name": "ipython",
    "version": 3
   },
   "file_extension": ".py",
   "mimetype": "text/x-python",
   "name": "python",
   "nbconvert_exporter": "python",
   "pygments_lexer": "ipython3",
   "version": "3.10.4"
  }
 },
 "nbformat": 4,
 "nbformat_minor": 5
}
