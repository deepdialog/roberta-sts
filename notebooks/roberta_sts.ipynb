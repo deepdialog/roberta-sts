{
 "cells": [
  {
   "cell_type": "code",
   "execution_count": 1,
   "id": "f53255b3-0e9f-4f09-ba68-616d5dc5069b",
   "metadata": {},
   "outputs": [],
   "source": [
    "from transformers import BertForSequenceClassification\n",
    "from transformers import BertTokenizer\n",
    "import torch"
   ]
  },
  {
   "cell_type": "code",
   "execution_count": 2,
   "id": "1fce3e45-8430-4a99-822a-51ea5febc7da",
   "metadata": {},
   "outputs": [
    {
     "data": {
      "application/vnd.jupyter.widget-view+json": {
       "model_id": "2cb2270d1eaa4b4ab12c34bfdd249488",
       "version_major": 2,
       "version_minor": 0
      },
      "text/plain": [
       "Downloading:   0%|          | 0.00/107k [00:00<?, ?B/s]"
      ]
     },
     "metadata": {},
     "output_type": "display_data"
    },
    {
     "data": {
      "application/vnd.jupyter.widget-view+json": {
       "model_id": "2453ef8d2cb14180b9c87d31491d3d6b",
       "version_major": 2,
       "version_minor": 0
      },
      "text/plain": [
       "Downloading:   0%|          | 0.00/752 [00:00<?, ?B/s]"
      ]
     },
     "metadata": {},
     "output_type": "display_data"
    },
    {
     "data": {
      "application/vnd.jupyter.widget-view+json": {
       "model_id": "5d38b304c37441598d8b31709f3ca62e",
       "version_major": 2,
       "version_minor": 0
      },
      "text/plain": [
       "Downloading:   0%|          | 0.00/1.21G [00:00<?, ?B/s]"
      ]
     },
     "metadata": {},
     "output_type": "display_data"
    }
   ],
   "source": [
    "# https://huggingface.co/IDEA-CCNL/Erlangshen-Roberta-330M-Similarity\n",
    "tokenizer=BertTokenizer.from_pretrained('IDEA-CCNL/Erlangshen-Roberta-330M-Similarity')\n",
    "model=BertForSequenceClassification.from_pretrained('IDEA-CCNL/Erlangshen-Roberta-330M-Similarity')"
   ]
  },
  {
   "cell_type": "code",
   "execution_count": 5,
   "id": "22bb0d65-d283-4cce-a470-d263c4ae422a",
   "metadata": {},
   "outputs": [],
   "source": [
    "model = model.eval()"
   ]
  },
  {
   "cell_type": "code",
   "execution_count": null,
   "id": "a06a76e4-eb19-4941-9695-be6324802e9a",
   "metadata": {},
   "outputs": [],
   "source": []
  },
  {
   "cell_type": "code",
   "execution_count": 76,
   "id": "fa5aaa35-ee02-41d9-bc2e-c95f6b0271ff",
   "metadata": {},
   "outputs": [],
   "source": [
    "x = torch.randint(0, 10, (1, 10), dtype=torch.int64, requires_grad=False)\n",
    "torch_out = model(x)\n",
    "\n",
    "# Export the model\n",
    "torch.onnx.export(\n",
    "    model,               # model being run\n",
    "    x,                         # model input (or a tuple for multiple inputs)\n",
    "    \"roberta_sts_300m.onnx\",   # where to save the model (can be a file or file-like object)\n",
    "    export_params=True,        # store the trained parameter weights inside the model file\n",
    "    opset_version=12,          # the ONNX version to export the model to\n",
    "    do_constant_folding=True,  # whether to execute constant folding for optimization\n",
    "    input_names = ['input'],   # the model's input names\n",
    "    output_names = ['output'], # the model's output names\n",
    "    dynamic_axes={\n",
    "        'input' : {\n",
    "            0 : 'batch_size',\n",
    "            1 : 'sequence_length',\n",
    "        }\n",
    "    }\n",
    ")"
   ]
  },
  {
   "cell_type": "code",
   "execution_count": 77,
   "id": "ed8c8d6d-f2b3-435e-b00b-153a157cebb4",
   "metadata": {},
   "outputs": [
    {
     "name": "stdout",
     "output_type": "stream",
     "text": [
      "1.3G\troberta_sts_300m.onnx\n"
     ]
    }
   ],
   "source": [
    "!du -sh roberta_sts_300m.onnx"
   ]
  },
  {
   "cell_type": "code",
   "execution_count": 90,
   "id": "a180b344-8e3a-41e2-b35f-d7899b0a7d97",
   "metadata": {},
   "outputs": [],
   "source": [
    "import onnx\n",
    "from onnxruntime.quantization import quantize_dynamic, QuantType"
   ]
  },
  {
   "cell_type": "code",
   "execution_count": 91,
   "id": "96eaf87c-c89c-432a-bc0b-db9420a20dfc",
   "metadata": {},
   "outputs": [
    {
     "name": "stdout",
     "output_type": "stream",
     "text": [
      "Ignore MatMul due to non constant B: /[MatMul_94]\n",
      "Ignore MatMul due to non constant B: /[MatMul_99]\n",
      "Ignore MatMul due to non constant B: /[MatMul_188]\n",
      "Ignore MatMul due to non constant B: /[MatMul_193]\n",
      "Ignore MatMul due to non constant B: /[MatMul_282]\n",
      "Ignore MatMul due to non constant B: /[MatMul_287]\n",
      "Ignore MatMul due to non constant B: /[MatMul_376]\n",
      "Ignore MatMul due to non constant B: /[MatMul_381]\n",
      "Ignore MatMul due to non constant B: /[MatMul_470]\n",
      "Ignore MatMul due to non constant B: /[MatMul_475]\n",
      "Ignore MatMul due to non constant B: /[MatMul_564]\n",
      "Ignore MatMul due to non constant B: /[MatMul_569]\n",
      "Ignore MatMul due to non constant B: /[MatMul_658]\n",
      "Ignore MatMul due to non constant B: /[MatMul_663]\n",
      "Ignore MatMul due to non constant B: /[MatMul_752]\n",
      "Ignore MatMul due to non constant B: /[MatMul_757]\n",
      "Ignore MatMul due to non constant B: /[MatMul_846]\n",
      "Ignore MatMul due to non constant B: /[MatMul_851]\n",
      "Ignore MatMul due to non constant B: /[MatMul_940]\n",
      "Ignore MatMul due to non constant B: /[MatMul_945]\n",
      "Ignore MatMul due to non constant B: /[MatMul_1034]\n",
      "Ignore MatMul due to non constant B: /[MatMul_1039]\n",
      "Ignore MatMul due to non constant B: /[MatMul_1128]\n",
      "Ignore MatMul due to non constant B: /[MatMul_1133]\n",
      "Ignore MatMul due to non constant B: /[MatMul_1222]\n",
      "Ignore MatMul due to non constant B: /[MatMul_1227]\n",
      "Ignore MatMul due to non constant B: /[MatMul_1316]\n",
      "Ignore MatMul due to non constant B: /[MatMul_1321]\n",
      "Ignore MatMul due to non constant B: /[MatMul_1410]\n",
      "Ignore MatMul due to non constant B: /[MatMul_1415]\n",
      "Ignore MatMul due to non constant B: /[MatMul_1504]\n",
      "Ignore MatMul due to non constant B: /[MatMul_1509]\n",
      "Ignore MatMul due to non constant B: /[MatMul_1598]\n",
      "Ignore MatMul due to non constant B: /[MatMul_1603]\n",
      "Ignore MatMul due to non constant B: /[MatMul_1692]\n",
      "Ignore MatMul due to non constant B: /[MatMul_1697]\n",
      "Ignore MatMul due to non constant B: /[MatMul_1786]\n",
      "Ignore MatMul due to non constant B: /[MatMul_1791]\n",
      "Ignore MatMul due to non constant B: /[MatMul_1880]\n",
      "Ignore MatMul due to non constant B: /[MatMul_1885]\n",
      "Ignore MatMul due to non constant B: /[MatMul_1974]\n",
      "Ignore MatMul due to non constant B: /[MatMul_1979]\n",
      "Ignore MatMul due to non constant B: /[MatMul_2068]\n",
      "Ignore MatMul due to non constant B: /[MatMul_2073]\n",
      "Ignore MatMul due to non constant B: /[MatMul_2162]\n",
      "Ignore MatMul due to non constant B: /[MatMul_2167]\n",
      "Ignore MatMul due to non constant B: /[MatMul_2256]\n",
      "Ignore MatMul due to non constant B: /[MatMul_2261]\n"
     ]
    }
   ],
   "source": [
    "model_fp32 = 'roberta_sts_300m.onnx'\n",
    "model_quant = 'roberta_sts_300m.quant.onnx'\n",
    "quantized_model = quantize_dynamic(model_fp32, model_quant)"
   ]
  },
  {
   "cell_type": "code",
   "execution_count": 92,
   "id": "d39e0885-127c-49f0-af3a-36c796209230",
   "metadata": {},
   "outputs": [
    {
     "name": "stdout",
     "output_type": "stream",
     "text": [
      "312M\troberta_sts_300m.quant.onnx\n"
     ]
    }
   ],
   "source": [
    "!du -sh '{model_quant}'"
   ]
  },
  {
   "cell_type": "code",
   "execution_count": 89,
   "id": "49ee03de-28b1-43e1-b87f-553dfaf8f070",
   "metadata": {},
   "outputs": [],
   "source": [
    "# !pip install onnx"
   ]
  },
  {
   "cell_type": "code",
   "execution_count": 88,
   "id": "ebbb10ab-d279-49c7-a18e-8c90169ff60d",
   "metadata": {},
   "outputs": [],
   "source": [
    "# !pip install https://files.pythonhosted.org/packages/1a/6b/db83264475b60809cf17647ad3a7fcb5a3b94e233eca2f403e82fa5b5861/ort_nightly-1.11.0.dev20220320001-cp310-cp310-manylinux_2_17_x86_64.manylinux2014_x86_64.whl"
   ]
  },
  {
   "cell_type": "code",
   "execution_count": null,
   "id": "1b6e1898-ebf9-4c37-8aee-8a939d422882",
   "metadata": {},
   "outputs": [],
   "source": []
  },
  {
   "cell_type": "code",
   "execution_count": null,
   "id": "5e4991b3-d85e-4b52-adc6-12b194826f02",
   "metadata": {},
   "outputs": [],
   "source": []
  },
  {
   "cell_type": "code",
   "execution_count": 50,
   "id": "a749d829-9b07-4301-b92e-46e5774b5a2d",
   "metadata": {},
   "outputs": [],
   "source": [
    "def sim(texta, textb):\n",
    "    output = model(torch.tensor([tokenizer.encode(texta,textb)]))\n",
    "    logits = output.logits.detach().numpy()[0]\n",
    "    softmax = torch.nn.functional.softmax(output.logits, dim=-1).detach().numpy()[0]\n",
    "    label = '相似' if softmax.argmax(-1) == 1 else '不同'\n",
    "    return logits, softmax, round(softmax[1], 4), label"
   ]
  },
  {
   "cell_type": "code",
   "execution_count": 44,
   "id": "40877bdd-447a-4ab0-8bf6-4e2c7b76a451",
   "metadata": {},
   "outputs": [
    {
     "data": {
      "text/plain": [
       "(array([ 1.9031352, -1.5363016], dtype=float32),\n",
       " array([0.9689145 , 0.03108544], dtype=float32),\n",
       " '不同')"
      ]
     },
     "execution_count": 44,
     "metadata": {},
     "output_type": "execute_result"
    }
   ],
   "source": [
    "texta = '民航'\n",
    "textb = '客机'\n",
    "sim(texta, textb)"
   ]
  },
  {
   "cell_type": "code",
   "execution_count": 65,
   "id": "c735fea4-85b0-4183-9d8a-819a5400afd0",
   "metadata": {},
   "outputs": [],
   "source": [
    "text = '群聊无法同步'\n",
    "# 0.91188097\t自动回复功能不生效\t检查以下配置是否正确： 确认回复设置（是否需要@托管微信，同一用户/群聊相同消息间隔） 确认生效范围是否设置，如果设置默认生效范围，默认生效范围是否保存 确认触发回复限制的生效次数，是无限次还是仅一次 确认对应托管微信是否开启休息模式\t\t2022-06-23T16:31:25\t2022-06-23T16:31:25\n",
    "# 0.79395235\t自动踢人没有生效\t自动踢人只能支持托管微信是群主的群聊\t\t2022-06-23T16:31:21\t2022-06-23T16:31:21\n",
    "# 0.77434516\t通过秒回发送出去的小程序异常或无法打开\n",
    "a = [\n",
    "    '同步不到群聊数据',\n",
    "    '视频发送失败',\n",
    "    '自动回复功能不生效',\n",
    "    '自动踢人没有生效',\n",
    "    '通过秒回发送出去的小程序异常或无法打开',\n",
    "]\n"
   ]
  },
  {
   "cell_type": "code",
   "execution_count": 66,
   "id": "dfbac370-f8d2-4b55-80ce-4755ef1b0e64",
   "metadata": {},
   "outputs": [
    {
     "name": "stdout",
     "output_type": "stream",
     "text": [
      "(array([-1.2135514,  1.4098148], dtype=float32), array([0.06764966, 0.9323504 ], dtype=float32), 0.9324, '相似')\n",
      "(array([ 4.6886926, -4.6623383], dtype=float32), array([9.9991310e-01, 8.6868306e-05], dtype=float32), 1e-04, '不同')\n",
      "(array([ 4.746388, -4.763688], dtype=float32), array([9.9992585e-01, 7.4095879e-05], dtype=float32), 1e-04, '不同')\n",
      "(array([ 4.75281 , -4.810149], dtype=float32), array([9.9992967e-01, 7.0279530e-05], dtype=float32), 1e-04, '不同')\n",
      "(array([ 4.760275, -4.803789], dtype=float32), array([9.999298e-01, 7.020196e-05], dtype=float32), 1e-04, '不同')\n"
     ]
    }
   ],
   "source": [
    "for aa in a:\n",
    "    print(sim(text, aa))"
   ]
  },
  {
   "cell_type": "code",
   "execution_count": null,
   "id": "e43915d3-06a8-4076-8ff7-aac6742d6265",
   "metadata": {},
   "outputs": [],
   "source": []
  }
 ],
 "metadata": {
  "kernelspec": {
   "display_name": "Python 3 (ipykernel)",
   "language": "python",
   "name": "python3"
  },
  "language_info": {
   "codemirror_mode": {
    "name": "ipython",
    "version": 3
   },
   "file_extension": ".py",
   "mimetype": "text/x-python",
   "name": "python",
   "nbconvert_exporter": "python",
   "pygments_lexer": "ipython3",
   "version": "3.10.4"
  }
 },
 "nbformat": 4,
 "nbformat_minor": 5
}
